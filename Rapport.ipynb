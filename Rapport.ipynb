{
 "cells": [
  {
   "cell_type": "markdown",
   "source": [
    "<center><h1> Représentation des Connaissances<br> (S-E06-0687)  </h1></center>\n",
    "<center><h2> Projet - Guacamole </h2></center>\n",
    "<center><h3> Master 2 Informatique - Parcours IA</h3></center>\n",
    "<center><h3> </h3></center>\n",
    "<center><h3> Nathanaël Lefèvre</h3></center>"
   ],
   "metadata": {
    "collapsed": false
   }
  },
  {
   "cell_type": "code",
   "execution_count": 1,
   "outputs": [
    {
     "data": {
      "text/plain": "<IPython.core.display.HTML object>",
      "text/html": "<style>pre { white-space: pre !important; }</style>"
     },
     "metadata": {},
     "output_type": "display_data"
    }
   ],
   "source": [
    "%reload_ext autoreload\n",
    "%autoreload 2\n",
    "\n",
    "from IPython.core.display import HTML\n",
    "display(HTML(\"<style>pre { white-space: pre !important; }</style>\"))\n",
    "\n",
    "%matplotlib inline"
   ],
   "metadata": {
    "collapsed": false,
    "pycharm": {
     "name": "#%%\n"
    }
   }
  },
  {
   "cell_type": "markdown",
   "source": [
    "<br><br>\n",
    "\n",
    "## 1. Structure du projet\n",
    "\n",
    "Le projet est organisé bla bla\n"
   ],
   "metadata": {
    "collapsed": false
   }
  },
  {
   "cell_type": "markdown",
   "source": [
    "<br><br>\n",
    "\n",
    "## 2. Requêtes\n",
    "\n",
    "Présentation de l'ApiRequester"
   ],
   "metadata": {
    "collapsed": false
   }
  },
  {
   "cell_type": "markdown",
   "source": [
    "<br><br>\n",
    "\n",
    "## 2. Plongement\n",
    "\n",
    "Fonctionnement du plongement...\n"
   ],
   "metadata": {
    "collapsed": false,
    "pycharm": {
     "name": "#%% md\n"
    }
   }
  }
 ],
 "metadata": {
  "kernelspec": {
   "display_name": "Python 3",
   "language": "python",
   "name": "python3"
  },
  "language_info": {
   "codemirror_mode": {
    "name": "ipython",
    "version": 2
   },
   "file_extension": ".py",
   "mimetype": "text/x-python",
   "name": "python",
   "nbconvert_exporter": "python",
   "pygments_lexer": "ipython2",
   "version": "2.7.6"
  }
 },
 "nbformat": 4,
 "nbformat_minor": 0
}